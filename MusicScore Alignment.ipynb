{
 "cells": [
  {
   "cell_type": "code",
   "execution_count": null,
   "metadata": {},
   "outputs": [
    {
     "name": "stdout",
     "output_type": "stream",
     "text": [
      "Looking in indexes: https://pypi.tuna.tsinghua.edu.cn/simple\n",
      "Collecting pretty_midi\n",
      "  Downloading https://pypi.tuna.tsinghua.edu.cn/packages/c2/81/f3e47efdf65eab347d1b78e8279222f6e3122d722cc9d68d443503a3c0e7/pretty_midi-0.2.10.tar.gz (5.6 MB)\n",
      "     ---------------------------------------- 5.6/5.6 MB 2.6 MB/s eta 0:00:00\n",
      "  Preparing metadata (setup.py): started\n",
      "  Preparing metadata (setup.py): finished with status 'done'\n",
      "Requirement already satisfied: numpy>=1.7.0 in d:\\anaconda3\\lib\\site-packages (from pretty_midi) (1.18.1)\n",
      "Collecting mido>=1.1.16 (from pretty_midi)\n",
      "  Downloading https://pypi.tuna.tsinghua.edu.cn/packages/b5/6d/e18a5b59ff086e1cd61d7fbf943d86c5f593a4e68bfc60215ab74210b22b/mido-1.2.10-py2.py3-none-any.whl (51 kB)\n",
      "     ---------------------------------------- 51.1/51.1 kB 2.6 MB/s eta 0:00:00\n",
      "Requirement already satisfied: six in d:\\anaconda3\\lib\\site-packages (from pretty_midi) (1.15.0)\n",
      "Building wheels for collected packages: pretty_midi\n",
      "  Building wheel for pretty_midi (setup.py): started\n",
      "  Building wheel for pretty_midi (setup.py): finished with status 'done'\n",
      "  Created wheel for pretty_midi: filename=pretty_midi-0.2.10-py3-none-any.whl size=5592308 sha256=90e08a3306e1cf44b08c7af6932d3bff1fdd2b2d86cdc5bee877e713c93197ca\n",
      "  Stored in directory: c:\\users\\罗晓珂\\appdata\\local\\pip\\cache\\wheels\\10\\01\\43\\0f51560a828b53208b0c6887578a35e0872b18c4fb498b556b\n",
      "Successfully built pretty_midi\n",
      "Installing collected packages: mido, pretty_midi\n",
      "Successfully installed mido-1.2.10 pretty_midi-0.2.10\n",
      "Note: you may need to restart the kernel to use updated packages.\n",
      "Looking in indexes: https://pypi.tuna.tsinghua.edu.cn/simple\n",
      "Requirement already satisfied: librosa in d:\\anaconda3\\lib\\site-packages\\librosa-0.8.0-py3.7.egg (0.8.0)\n",
      "Requirement already satisfied: audioread>=2.0.0 in d:\\anaconda3\\lib\\site-packages (from librosa) (2.0.0)\n",
      "Requirement already satisfied: numpy>=1.15.0 in d:\\anaconda3\\lib\\site-packages (from librosa) (1.18.1)\n",
      "Requirement already satisfied: scipy>=1.0.0 in d:\\anaconda3\\lib\\site-packages (from librosa) (1.4.1)\n",
      "Requirement already satisfied: scikit-learn!=0.19.0,>=0.14.0 in d:\\anaconda3\\lib\\site-packages (from librosa) (1.0.2)\n",
      "Requirement already satisfied: joblib>=0.14 in d:\\anaconda3\\lib\\site-packages (from librosa) (0.14.1)\n",
      "Requirement already satisfied: decorator>=3.0.0 in d:\\anaconda3\\lib\\site-packages (from librosa) (4.4.1)\n",
      "Requirement already satisfied: resampy>=0.2.2 in d:\\anaconda3\\lib\\site-packages (from librosa) (0.3.1)\n",
      "Requirement already satisfied: numba>=0.43.0 in d:\\anaconda3\\lib\\site-packages (from librosa) (0.48.0)\n",
      "Requirement already satisfied: soundfile>=0.9.0 in d:\\anaconda3\\lib\\site-packages\\soundfile-0.12.1-py3.7-win-amd64.egg (from librosa) (0.12.1)\n",
      "Requirement already satisfied: pooch>=1.0 in d:\\anaconda3\\lib\\site-packages\\pooch-1.7.0-py3.7.egg (from librosa) (1.7.0)\n",
      "Requirement already satisfied: llvmlite<0.32.0,>=0.31.0dev0 in d:\\anaconda3\\lib\\site-packages (from numba>=0.43.0->librosa) (0.31.0)\n",
      "Requirement already satisfied: setuptools in d:\\anaconda3\\lib\\site-packages (from numba>=0.43.0->librosa) (45.2.0.post20200210)\n",
      "Requirement already satisfied: packaging>=20.0 in d:\\anaconda3\\lib\\site-packages (from pooch>=1.0->librosa) (23.1)\n",
      "Requirement already satisfied: platformdirs>=2.5.0 in d:\\anaconda3\\lib\\site-packages\\platformdirs-3.5.0-py3.7.egg (from pooch>=1.0->librosa) (3.5.0)\n",
      "Requirement already satisfied: requests>=2.19.0 in c:\\users\\罗晓珂\\appdata\\roaming\\python\\python37\\site-packages (from pooch>=1.0->librosa) (2.25.0)\n",
      "Requirement already satisfied: threadpoolctl>=2.0.0 in d:\\anaconda3\\lib\\site-packages (from scikit-learn!=0.19.0,>=0.14.0->librosa) (3.1.0)\n",
      "Requirement already satisfied: cffi>=1.0 in d:\\anaconda3\\lib\\site-packages (from soundfile>=0.9.0->librosa) (1.14.0)\n",
      "Requirement already satisfied: pycparser in d:\\anaconda3\\lib\\site-packages (from cffi>=1.0->soundfile>=0.9.0->librosa) (2.19)\n",
      "Collecting typing-extensions>=4.5 (from platformdirs>=2.5.0->pooch>=1.0->librosa)\n",
      "  Downloading https://pypi.tuna.tsinghua.edu.cn/packages/5f/86/d9b1518d8e75b346a33eb59fa31bdbbee11459a7e2cc5be502fa779e96c5/typing_extensions-4.6.3-py3-none-any.whl (31 kB)\n",
      "Requirement already satisfied: chardet<4,>=3.0.2 in d:\\anaconda3\\lib\\site-packages (from requests>=2.19.0->pooch>=1.0->librosa) (3.0.4)\n",
      "Requirement already satisfied: idna<3,>=2.5 in d:\\anaconda3\\lib\\site-packages (from requests>=2.19.0->pooch>=1.0->librosa) (2.8)\n",
      "Requirement already satisfied: urllib3<1.27,>=1.21.1 in d:\\anaconda3\\lib\\site-packages (from requests>=2.19.0->pooch>=1.0->librosa) (1.26.11)\n",
      "Requirement already satisfied: certifi>=2017.4.17 in d:\\anaconda3\\lib\\site-packages (from requests>=2.19.0->pooch>=1.0->librosa) (2019.11.28)\n",
      "Installing collected packages: typing-extensions\n",
      "  Attempting uninstall: typing-extensions\n",
      "    Found existing installation: typing_extensions 4.3.0\n",
      "    Uninstalling typing_extensions-4.3.0:\n",
      "      Successfully uninstalled typing_extensions-4.3.0\n",
      "Successfully installed typing-extensions-4.6.3\n",
      "Note: you may need to restart the kernel to use updated packages.\n"
     ]
    }
   ],
   "source": [
    "#Needed imports\n",
    "#you might to install these libraries:\n",
    "%pip install pretty_midi\n",
    "%pip install librosa\n",
    "%pip install pyfluidsynth  "
   ]
  },
  {
   "cell_type": "code",
   "execution_count": 175,
   "metadata": {},
   "outputs": [],
   "source": [
    "import sys\n",
    "import numpy as np\n",
    "import librosa, pretty_midi\n",
    "import pandas as pd\n",
    "import soundfile as sf\n",
    "import matplotlib.pyplot as plt\n",
    "import os\n",
    "import librosa.display\n",
    "from librosa import util"
   ]
  },
  {
   "cell_type": "code",
   "execution_count": 177,
   "metadata": {},
   "outputs": [],
   "source": [
    "score_midi = \"D:/罗晓珂/Documents/Music-Score Alignment/midi/Chopin_Ballade/Chopin_op38_p01.mid\"\n",
    "perf = \"D:/罗晓珂/Documents/Music-Score Alignment/audio/Chopin_Ballade/Chopin_op38_p01\"\n",
    "fs = 44100\n",
    "stride = 512\n",
    "n_fft = 4096\n",
    "\n",
    "n_mels = 138\n",
    "# onset-detect的参数\n",
    "fmin = 27.5\n",
    "fmax = 16000.\n",
    "lag = 2\n",
    "max_size = 3"
   ]
  },
  {
   "cell_type": "code",
   "execution_count": 36,
   "metadata": {},
   "outputs": [],
   "source": [
    "\"\"\"\n",
    "使用librosa.sequence.dtw方法实现DTW\n",
    "使用的feature为chroma\n",
    "\"\"\"\n",
    "# 以MIDI形式获取score\n",
    "score_synth = pretty_midi.PrettyMIDI(score_midi).synthesize(fs=fs)\n",
    "# 获取表演音频\n",
    "perf,_ = librosa.load(perf + '.wav', sr=fs) \n",
    "# 把score和表演都转换为chroma feature\n",
    "score_chroma = librosa.feature.chroma_stft(y=score_synth, sr=fs, tuning=0, norm=2,\n",
    "                                           hop_length=stride, n_fft=n_fft)\n",
    "score_logch = librosa.power_to_db(score_chroma, ref=score_chroma.max())\n",
    "perf_chroma = librosa.feature.chroma_stft(y=perf, sr=fs, tuning=0, norm=2,\n",
    "                                          hop_length=stride, n_fft=n_fft)\n",
    "perf_logch = librosa.power_to_db(perf_chroma, ref=perf_chroma.max())\n",
    "\n",
    "# 运行DTW\n",
    "# D is COST matrix\n",
    "D, wp = librosa.sequence.dtw(X=score_logch, Y=perf_logch)\n",
    "path = np.array(list(reversed(np.asarray(wp))))"
   ]
  },
  {
   "cell_type": "code",
   "execution_count": 179,
   "metadata": {},
   "outputs": [],
   "source": [
    "\"\"\"对MIDI以及audio使用superflux得到的onset_envelope特征作为特征输入\n",
    "为了鲁棒性，要对两者的特征进行归一化\"\"\"\n",
    "# 以MIDI形式获取score\n",
    "score_synth = pretty_midi.PrettyMIDI(score_midi).synthesize(fs=fs)\n",
    "# 获取表演音频\n",
    "perf,_ = librosa.load(perf + '.wav', sr=fs) \n",
    "# 把score和表演都转换为spectral flux feature\n",
    "score_S = librosa.feature.melspectrogram(y=score_synth, sr=fs, n_fft=n_fft,\n",
    "                                   hop_length=stride,\n",
    "                                   fmin=fmin,\n",
    "                                   fmax=fmax,\n",
    "                                   n_mels=n_mels)\n",
    "score_env = librosa.onset.onset_strength(S=librosa.power_to_db(score_S, ref=np.max),\n",
    "                                      sr=fs,\n",
    "                                      hop_length=stride,\n",
    "                                      lag=lag, max_size=max_size, detrend = True)\n",
    "perf_S = librosa.feature.melspectrogram(y=perf, sr=fs, n_fft=n_fft,\n",
    "                                   hop_length=stride,\n",
    "                                   fmin=fmin,\n",
    "                                   fmax=fmax,\n",
    "                                   n_mels=n_mels)\n",
    "perf_env = librosa.onset.onset_strength(S=librosa.power_to_db(perf_S, ref=np.max),\n",
    "                                      sr=fs,\n",
    "                                      hop_length=stride,\n",
    "                                      lag=lag, max_size=max_size, detrend = True)\n"
   ]
  },
  {
   "cell_type": "code",
   "execution_count": 40,
   "metadata": {},
   "outputs": [
    {
     "data": {
      "text/plain": [
       "11437"
      ]
     },
     "execution_count": 40,
     "metadata": {},
     "output_type": "execute_result"
    }
   ],
   "source": [
    "score_env.size"
   ]
  },
  {
   "cell_type": "code",
   "execution_count": 41,
   "metadata": {},
   "outputs": [
    {
     "data": {
      "text/plain": [
       "11043"
      ]
     },
     "execution_count": 41,
     "metadata": {},
     "output_type": "execute_result"
    }
   ],
   "source": [
    "perf_env.size"
   ]
  },
  {
   "cell_type": "code",
   "execution_count": 180,
   "metadata": {},
   "outputs": [],
   "source": [
    "\"\"\"参照librosa的方法对envolope进行归一化\"\"\"\n",
    "def nrm_onset_env(onset_envelope):\n",
    "    onset_envelope = onset_envelope - np.min(onset_envelope)\n",
    "\n",
    "    # Mypy does not realize that oenv is not None by now\n",
    "    # Max-scale with safe division\n",
    "    onset_envelope /= np.max(onset_envelope) + util.tiny(onset_envelope)  # type: ignore\n",
    "    return onset_envelope"
   ]
  },
  {
   "cell_type": "code",
   "execution_count": 181,
   "metadata": {},
   "outputs": [],
   "source": [
    "score_env_norm = nrm_onset_env(score_env)\n",
    "perf_env_norm = nrm_onset_env(perf_env)"
   ]
  },
  {
   "cell_type": "code",
   "execution_count": 44,
   "metadata": {},
   "outputs": [
    {
     "data": {
      "text/plain": [
       "array([0.06691425, 0.06691425, 0.06691425, ..., 0.06371142, 0.06374345,\n",
       "       0.06377515])"
      ]
     },
     "execution_count": 44,
     "metadata": {},
     "output_type": "execute_result"
    }
   ],
   "source": [
    "score_env_norm"
   ]
  },
  {
   "cell_type": "code",
   "execution_count": 45,
   "metadata": {},
   "outputs": [
    {
     "data": {
      "text/plain": [
       "array([0.04844863, 0.04844863, 0.04844863, ..., 0.04930391, 0.04235726,\n",
       "       0.04505582])"
      ]
     },
     "execution_count": 45,
     "metadata": {},
     "output_type": "execute_result"
    }
   ],
   "source": [
    "perf_env_norm"
   ]
  },
  {
   "cell_type": "code",
   "execution_count": 46,
   "metadata": {},
   "outputs": [],
   "source": [
    "score_onset = librosa.onset.onset_detect(onset_envelope=score_env,\n",
    "                                      sr=fs,\n",
    "                                      hop_length=stride,\n",
    "                                      units='time')\n",
    "perf_onset = librosa.onset.onset_detect(onset_envelope=perf_env,\n",
    "                                      sr=fs,\n",
    "                                      hop_length=stride,\n",
    "                                      units='time')"
   ]
  },
  {
   "cell_type": "code",
   "execution_count": 47,
   "metadata": {},
   "outputs": [
    {
     "data": {
      "text/plain": [
       "array([  5.59600907,   6.06040816,   6.81505669,   7.20979592,\n",
       "         7.95283447,   8.38240363,   9.20671202,   9.74077098,\n",
       "        10.4954195 ,  10.97142857,  11.7260771 ,  12.24852608,\n",
       "        12.86385488,  13.03800454,  13.57206349,  14.3847619 ,\n",
       "        14.86077098,  15.69668934,  16.17269841,  16.97378685,\n",
       "        17.54267574,  18.40181406,  18.97070295,  19.74857143,\n",
       "        20.20136054,  20.97922902,  21.40879819,  22.16344671,\n",
       "        22.66267574,  23.23156463,  23.39410431,  23.83528345,\n",
       "        24.63637188,  25.15882086,  25.71609977,  25.91346939,\n",
       "        26.44752834,  27.29505669,  27.84072562,  28.66503401,\n",
       "        29.22231293,  30.01179138,  30.4645805 ,  31.19600907,\n",
       "        31.63718821,  32.38022676,  32.89106576,  33.47156463,\n",
       "        33.62249433,  34.11011338,  34.87637188,  35.35238095,\n",
       "        36.15346939,  36.64108844,  37.46539683,  37.97623583,\n",
       "        38.8121542 ,  39.34621315,  40.18213152,  40.63492063,\n",
       "        41.40117914,  41.81913832,  42.58539683,  43.0614059 ,\n",
       "        43.68834467,  43.83927438,  44.37333333,  45.18603175,\n",
       "        45.63882086,  46.20770975,  46.38185941,  46.90430839,\n",
       "        47.72861678,  48.19301587,  49.04054422,  49.66748299,\n",
       "        50.44535147,  50.87492063,  51.66439909,  52.00108844,\n",
       "        52.08235828,  52.21006803,  52.92988662,  53.39428571,\n",
       "        54.14893424,  54.61333333,  55.41442177,  55.86721088,\n",
       "        56.64507937,  56.92371882,  57.00498866,  57.10947846,\n",
       "        57.88734694,  58.36335601,  59.40825397,  60.11646259,\n",
       "        60.96399093,  61.41678005,  62.2062585 ,  62.64743764,\n",
       "        63.47174603,  64.01741497,  64.59791383,  64.77206349,\n",
       "        65.23646259,  66.01433107,  66.49034014,  67.09405896,\n",
       "        67.25659864,  67.81387755,  68.63818594,  69.16063492,\n",
       "        70.00816327,  70.53061224,  71.43619048,  72.15600907,\n",
       "        73.08480726,  73.68852608,  74.47800454,  74.94240363,\n",
       "        75.54612245,  75.69705215,  76.16145125,  76.96253968,\n",
       "        77.4153288 ,  78.19319728,  78.65759637,  79.48190476,\n",
       "        79.98113379,  80.7938322 ,  81.35111111,  82.09414966,\n",
       "        82.55854875,  83.33641723,  83.76598639,  84.54385488,\n",
       "        85.05469388,  85.63519274,  85.79773243,  86.32018141,\n",
       "        87.12126984,  87.58566893,  88.17777778,  88.34031746,\n",
       "        88.87437642,  89.73351474,  90.36045351,  91.1847619 ,\n",
       "        91.649161  ,  92.49668934,  93.05396825,  93.84344671,\n",
       "        94.3078458 ,  95.06249433,  95.56172336,  96.14222222,\n",
       "        96.31637188,  96.80399093,  97.60507937,  98.09269841,\n",
       "        98.69641723,  98.88217687,  99.41623583, 100.2521542 ,\n",
       "       100.73977324, 101.64535147, 102.24907029, 103.23591837,\n",
       "       103.76997732, 104.36208617, 104.5478458 , 105.04707483,\n",
       "       105.89460317, 106.37061224, 107.20653061, 107.81024943,\n",
       "       108.63455782, 108.87836735, 108.99446712, 109.13378685,\n",
       "       109.79555556, 110.00453515, 110.59664399, 111.43256236,\n",
       "       112.09433107, 112.72126984, 112.8954195 , 113.32498866,\n",
       "       114.10285714, 114.64852608, 115.29868481, 115.43800454,\n",
       "       115.94884354, 116.83120181, 117.49297052, 118.270839  ,\n",
       "       118.71201814, 119.46666667, 119.93106576, 120.85986395,\n",
       "       121.45197279, 122.63619048, 123.55337868, 124.24997732,\n",
       "       124.60988662, 124.83047619, 125.08589569, 125.30648526,\n",
       "       125.51546485, 126.0030839 , 126.88544218, 127.52399093,\n",
       "       128.23219955, 129.05650794, 130.3568254 ])"
      ]
     },
     "execution_count": 47,
     "metadata": {},
     "output_type": "execute_result"
    }
   ],
   "source": [
    "score_onset"
   ]
  },
  {
   "cell_type": "code",
   "execution_count": 29,
   "metadata": {},
   "outputs": [
    {
     "data": {
      "text/plain": [
       "array([ 1.14938776,  1.40480726,  1.46285714,  1.6370068 ,  1.7414966 ,\n",
       "        2.05496599,  2.08979592,  2.27555556,  2.44970522,  2.6122449 ,\n",
       "        2.82122449,  2.96054422,  3.09986395,  3.15791383,  3.39011338,\n",
       "        3.55265306,  3.58748299,  3.66875283,  3.71519274,  3.87773243,\n",
       "        4.05188209,  4.20281179,  4.40018141,  4.44662132,  4.56272109,\n",
       "        4.62077098,  4.74848073,  4.95746032,  5.07356009,  5.20126984,\n",
       "        5.24770975,  5.39863946,  5.54956916,  5.78176871,  5.97913832,\n",
       "        6.2461678 ,  6.30421769,  6.62929705,  6.82666667,  7.00081633,\n",
       "        7.15174603,  7.23301587,  7.32589569,  7.50004535,  7.56970522,\n",
       "        7.69741497,  7.74385488,  7.83673469,  7.8831746 ,  8.05732426,\n",
       "        8.2430839 ,  8.27791383,  8.39401361,  8.57977324,  8.62621315,\n",
       "        8.7539229 ,  8.81197279,  8.91646259,  9.09061224,  9.14866213,\n",
       "        9.27637188,  9.32281179,  9.40408163,  9.64789116, 10.11229025,\n",
       "       10.44897959, 10.54185941, 10.66956916, 10.83210884, 11.01786848,\n",
       "       11.18040816, 11.37777778, 11.54031746, 11.66802721, 11.90022676,\n",
       "       12.07437642, 12.24852608, 12.39945578, 12.45750567, 12.57360544,\n",
       "       12.80580499, 12.95673469, 12.99156463, 13.1076644 , 13.28181406,\n",
       "       13.45596372, 13.58367347, 13.75782313, 13.89714286, 14.11773243,\n",
       "       14.32671202, 14.60535147, 14.849161  , 14.98848073, 15.18585034,\n",
       "       15.34839002, 15.51092971, 15.63863946, 15.69668934, 15.85922902,\n",
       "       15.92888889, 16.05659864, 16.10303855, 16.20752834, 16.25396825,\n",
       "       16.40489796, 16.45133787, 16.55582766, 16.62548753, 16.75319728,\n",
       "       16.97378685, 17.1014966 , 17.15954649, 17.27564626, 17.43818594,\n",
       "       17.49623583, 17.62394558, 17.67038549, 17.75165533, 18.00707483,\n",
       "       18.47147392, 18.79655329, 19.04036281, 19.07519274, 19.26095238,\n",
       "       19.29578231, 19.41188209, 19.59764172, 19.64408163, 19.78340136,\n",
       "       19.82984127, 19.93433107, 20.10848073, 20.45678005, 20.79346939,\n",
       "       20.87473923, 20.990839  , 21.13015873, 21.29269841, 21.37396825,\n",
       "       21.501678  , 21.83836735, 21.90802721, 21.97768707, 22.18666667,\n",
       "       22.2214966 , 22.55818594, 22.60462585, 22.89487528, 22.9877551 ,\n",
       "       23.06902494, 23.28961451, 23.48698413, 23.52181406, 23.63791383,\n",
       "       23.81206349, 23.8585034 , 24.03265306, 24.19519274, 24.39256236,\n",
       "       24.71764172, 25.11238095, 25.14721088, 25.27492063, 25.44907029,\n",
       "       25.4955102 , 25.77414966, 25.80897959, 25.97151927, 26.01795918,\n",
       "       26.14566893, 26.30820862, 26.54040816, 26.58684807, 27.22539683,\n",
       "       27.29505669, 27.41115646, 27.58530612, 27.62013605, 27.7478458 ,\n",
       "       27.8523356 , 27.9568254 , 28.17741497, 28.31673469, 28.3631746 ,\n",
       "       28.4676644 , 28.63020408, 28.68825397, 28.96689342, 29.38485261,\n",
       "       29.54739229, 29.67510204, 29.7447619 , 30.02340136, 30.39492063,\n",
       "       30.53424036, 30.75482993, 31.0799093 , 31.46303855, 31.54430839,\n",
       "       31.70684807, 31.85777778, 31.96226757, 32.19446712, 32.22929705,\n",
       "       32.33378685, 32.49632653, 32.54276644, 32.68208617, 32.72852608,\n",
       "       32.83301587, 33.00716553, 33.04199546, 33.3322449 , 33.77342404,\n",
       "       33.91274376, 34.07528345, 34.13333333, 34.38875283, 34.57451247,\n",
       "       34.62095238, 34.73705215, 34.91120181, 35.12018141, 35.17823129,\n",
       "       35.75873016, 35.81678005, 35.93287982, 35.97931973, 37.09387755])"
      ]
     },
     "execution_count": 29,
     "metadata": {},
     "output_type": "execute_result"
    }
   ],
   "source": [
    "perf_onset"
   ]
  },
  {
   "cell_type": "code",
   "execution_count": 51,
   "metadata": {},
   "outputs": [],
   "source": [
    "# 将onset_env作为输入\n",
    "D, wp = librosa.sequence.dtw(X=perf_env_norm, Y=score_env_norm)\n",
    "path = np.array(list(reversed(np.asarray(wp))))"
   ]
  },
  {
   "cell_type": "code",
   "execution_count": 49,
   "metadata": {},
   "outputs": [
    {
     "data": {
      "text/plain": [
       "array([[    0,     0],\n",
       "       [    1,     1],\n",
       "       [    2,     2],\n",
       "       ...,\n",
       "       [11040, 11434],\n",
       "       [11041, 11435],\n",
       "       [11042, 11436]])"
      ]
     },
     "execution_count": 49,
     "metadata": {},
     "output_type": "execute_result"
    }
   ],
   "source": [
    "path"
   ]
  },
  {
   "cell_type": "code",
   "execution_count": 50,
   "metadata": {},
   "outputs": [
    {
     "data": {
      "text/plain": [
       "array([[    0,     0],\n",
       "       [    1,     1],\n",
       "       [    2,     2],\n",
       "       ...,\n",
       "       [11040, 11434],\n",
       "       [11041, 11435],\n",
       "       [11042, 11436]])"
      ]
     },
     "execution_count": 50,
     "metadata": {},
     "output_type": "execute_result"
    }
   ],
   "source": [
    "path"
   ]
  },
  {
   "cell_type": "code",
   "execution_count": 190,
   "metadata": {},
   "outputs": [
    {
     "data": {
      "text/plain": [
       "<Figure size 2400x800 with 0 Axes>"
      ]
     },
     "metadata": {},
     "output_type": "display_data"
    },
    {
     "data": {
      "image/png": "[encoded data removed]",
      "text/plain": [
       "<Figure size 432x288 with 2 Axes>"
      ]
     },
     "metadata": {
      "needs_background": "light"
     },
     "output_type": "display_data"
    }
   ],
   "source": [
    "plt.figure(figsize=(30, 10), dpi=80)\n",
    "fig, ax = plt.subplots(nrows=2, sharex=True)\n",
    "\n",
    "ax[0].plot(score_env_norm[1000:7000], label='Score_env')\n",
    "# ax[0].vlines(score_onset, 0, score_env_norm.max(), color='r', label='Score_Onsets')\n",
    "ax[0].legend()\n",
    "ax[0].label_outer()\n",
    "\n",
    "ax[1].plot(perf_env_norm[1000:7000], color='g', label='Perf_env')\n",
    "# ax[1].vlines(perf_onset, 0, perf_env_norm.max(), color='r', label='Perf_Onsets')\n",
    "ax[1].legend()\n",
    "ax[0].label_outer()\n",
    "ax[0].set_title(\"Onset Envoplope\")\n",
    "plt.show()\n"
   ]
  },
  {
   "cell_type": "code",
   "execution_count": 120,
   "metadata": {},
   "outputs": [],
   "source": [
    "\"\"\"\n",
    "对MIDI以及audio使用superflux得到的onset_envelope特征作为特征输入\n",
    "为了鲁棒性，要对两者的特征进行归一化\n",
    "\n",
    "\"\"\"\n",
    "def align_flux(score_midi, perf, fs=44100, stride=512, n_fft=4096):\n",
    "    # 以MIDI形式获取score\n",
    "    score_synth = pretty_midi.PrettyMIDI(score_midi).synthesize(fs=fs)\n",
    "    # 获取表演音频\n",
    "    perf,_ = librosa.load(perf + '.wav', sr=fs) \n",
    "    # 把score和表演都转换为spectral flux feature\n",
    "    score_S = librosa.feature.melspectrogram(y=score_synth, sr=fs, n_fft=n_fft,\n",
    "                                   hop_length=stride,\n",
    "                                   fmin=fmin,\n",
    "                                   fmax=fmax,\n",
    "                                   n_mels=n_mels)\n",
    "    score_env = librosa.onset.onset_strength(S=librosa.power_to_db(score_S, ref=np.max),\n",
    "                                      sr=fs,\n",
    "                                      hop_length=stride,\n",
    "                                      lag=lag, max_size=max_size, detrend = True)\n",
    "    perf_S = librosa.feature.melspectrogram(y=perf, sr=fs, n_fft=n_fft,\n",
    "                                   hop_length=stride,\n",
    "                                   fmin=fmin,\n",
    "                                   fmax=fmax,\n",
    "                                   n_mels=n_mels)\n",
    "    perf_env = librosa.onset.onset_strength(S=librosa.power_to_db(perf_S, ref=np.max),\n",
    "                                      sr=fs,\n",
    "                                      hop_length=stride,\n",
    "                                      lag=lag, max_size=max_size, detrend = True)\n",
    "    score_env_norm = nrm_onset_env(score_env)\n",
    "    perf_env_norm = nrm_onset_env(perf_env)\n",
    "    \n",
    "    D, wp = librosa.sequence.dtw(X=perf_env_norm, Y=score_env_norm)\n",
    "    path = np.array(list(reversed(np.asarray(wp))))\n",
    "\n",
    "    return np.array([(s,t) for s,t in dict(reversed(wp)).items()])*(stride/fs)\n",
    "\n",
    "\"\"\"\n",
    "This function aligns the chroma features of the score and the performance\n",
    "and returns the alignment path as a numpy array of tuples (s,t) where s is the\n",
    "time in the score and t is the time in the performance.\n",
    "\"\"\"\n",
    "def align_chroma(score_midi, perf, fs=44100, stride=512, n_fft=4096):\n",
    "    # 以MIDI形式获取score\n",
    "    score_synth = pretty_midi.PrettyMIDI(score_midi).synthesize(fs=fs)\n",
    "    perf,_ = librosa.load(perf + '.wav', sr=fs) # 获取表演音频\n",
    "    # 把score和表演都转换为chroma feature\n",
    "    score_chroma = librosa.feature.chroma_stft(y=score_synth, sr=fs, tuning=0, norm=2,\n",
    "                                               hop_length=stride, n_fft=n_fft)\n",
    "    score_logch = librosa.power_to_db(score_chroma, ref=score_chroma.max())\n",
    "    perf_chroma = librosa.feature.chroma_stft(y=perf, sr=fs, tuning=0, norm=2,\n",
    "                                              hop_length=stride, n_fft=n_fft)\n",
    "    perf_logch = librosa.power_to_db(perf_chroma, ref=perf_chroma.max())\n",
    "    D, wp = librosa.sequence.dtw(X=score_logch, Y=perf_logch)\n",
    "    path = np.array(list(reversed(np.asarray(wp))))\n",
    "\n",
    "    return np.array([(s,t) for s,t in dict(reversed(wp)).items()])*(stride/fs)\n",
    "\n",
    "\"\"\"\n",
    "This function aligns the spectrogram features of the score and the performance\n",
    "and returns the alignment path as a numpy array of tuples (s,t) where s is the\n",
    "time in the score and t is the time in the performance.\n",
    "\"\"\"\n",
    "def align_spectra(score_midi, perf, fs=44100, stride=512, n_fft=4096):\n",
    "    score_synth = pretty_midi.PrettyMIDI(score_midi).synthesize(fs=fs)\n",
    "    perf,_ = librosa.load(perf + '.wav', sr=fs)\n",
    "    score_spec = np.abs(librosa.stft(y=score_synth, hop_length=stride, n_fft=n_fft))**2\n",
    "    score_logspec = librosa.power_to_db(score_spec, ref=score_spec.max())\n",
    "    perf_spec = np.abs(librosa.stft(y=perf, hop_length=stride, n_fft=n_fft))**2\n",
    "    perf_logspec = librosa.power_to_db(perf_spec, ref=perf_spec.max())\n",
    "    D, wp = librosa.sequence.dtw(X=score_logspec, Y=perf_logspec)\n",
    "    # D is COST matrix\n",
    "    path = np.array(list(reversed(np.asarray(wp))))\n",
    "    return np.array([(s,t) for s,t in dict(reversed(wp)).items()])*(stride/fs)\n",
    "\n",
    "#sort of wrapper function\n",
    "def align_all(score_midi, perf, fs=44100, stride=512, n_fft=4096):\n",
    "    align1=align_chroma(score_midi, perf, fs, stride, n_fft)\n",
    "    align2=align_spectra(score_midi, perf, fs, stride, n_fft)\n",
    "    align3=align_flux(score_midi, perf, fs, stride, n_fft)\n",
    "    return align1,align2,align3 #later on we'll save these alignments in a file"
   ]
  },
  {
   "cell_type": "code",
   "execution_count": 121,
   "metadata": {},
   "outputs": [],
   "source": [
    "muiñeira_path = \"D:/罗晓珂/Documents/Music-Score Alignment/\"\n",
    "alignment_path = \"D:/罗晓珂/Documents/Music-Score Alignment/alignments/\""
   ]
  },
  {
   "cell_type": "code",
   "execution_count": 130,
   "metadata": {},
   "outputs": [
    {
     "data": {
      "text/plain": [
       "'D:/罗晓珂/Documents/Music-Score Alignment/alignments/alignments1'"
      ]
     },
     "execution_count": 130,
     "metadata": {},
     "output_type": "execute_result"
    }
   ],
   "source": [
    "path = alignment_path+'alignments{idx}'.format(idx=1)\n",
    "path"
   ]
  },
  {
   "cell_type": "code",
   "execution_count": 89,
   "metadata": {},
   "outputs": [],
   "source": [
    "perf_path=muiñeira_path+'audio/Chopin_Ballade/'"
   ]
  },
  {
   "cell_type": "code",
   "execution_count": 73,
   "metadata": {},
   "outputs": [],
   "source": [
    "perf_wav=[f for f in os.listdir(perf_path) if f.endswith('.wav')]"
   ]
  },
  {
   "cell_type": "code",
   "execution_count": 77,
   "metadata": {},
   "outputs": [
    {
     "data": {
      "text/plain": [
       "'Chopin_op38_p01.wav'"
      ]
     },
     "execution_count": 77,
     "metadata": {},
     "output_type": "execute_result"
    }
   ],
   "source": [
    "perf_wav[0]"
   ]
  },
  {
   "cell_type": "code",
   "execution_count": 131,
   "metadata": {},
   "outputs": [],
   "source": [
    "def align_chopin(muiñeira_path,alignment_path):\n",
    "    try:\n",
    "#         os.mkdir(muiñeira_path+'/alignments')\n",
    "        \n",
    "        #access the score and performance of the first muiñeira\n",
    "        score_path=muiñeira_path+'midi/Chopin_Ballade/'\n",
    "        perf_path=muiñeira_path+'audio/Chopin_Ballade/'\n",
    "        #get wav file in performance folder\n",
    "        perf_wavs=[f for f in os.listdir(perf_path) if f.endswith('.wav')]\n",
    "        #get midi file in score folder\n",
    "        score_midis=[f for f in os.listdir(score_path) if f.endswith('.mid')]\n",
    "        for idx,perf_wav in enumerate(perf_wavs):\n",
    "            #align the score and performance\n",
    "            align1,align2,align3 = align_all(score_path+'/'+score_midis[idx], perf_path+'/'+perf_wav[:-4])\n",
    "            #save first alignment in text file, row1 is time in score, row2 is time in performance\n",
    "            #add a header to the file\n",
    "            header='score_time, perf_time'\n",
    "            #create new folder in muiñeira_path called 'alignments'\n",
    "            #save the alignment in the new folder\n",
    "            os.mkdir(alignment_path+'/alignments{idx}'.format(idx=idx))\n",
    "            path = alignment_path+'alignments{idx}'.format(idx=idx)\n",
    "            print(\"Create alignment folder{idx}\".format(idx=idx))\n",
    "            np.savetxt(path+'/align_chroma.txt', align1, delimiter=',', header=header)\n",
    "            #save second alignment in text file, row1 is time in score, row2 is time in performance\n",
    "            np.savetxt(path+'/align_spectra.txt', align2, delimiter=',', header=header)\n",
    "            np.savetxt(path+'/align_flux.txt', align3, delimiter=',', header=header)\n",
    "    except Exception as e:\n",
    "        print(e)"
   ]
  },
  {
   "cell_type": "code",
   "execution_count": 132,
   "metadata": {},
   "outputs": [
    {
     "name": "stdout",
     "output_type": "stream",
     "text": [
      "Create alignment folder0\n",
      "Create alignment folder1\n",
      "Create alignment folder2\n",
      "Create alignment folder3\n",
      "Create alignment folder4\n",
      "Create alignment folder5\n",
      "Create alignment folder6\n",
      "Create alignment folder7\n",
      "Create alignment folder8\n",
      "Create alignment folder9\n",
      "Create alignment folder10\n",
      "Create alignment folder11\n"
     ]
    },
    {
     "ename": "KeyboardInterrupt",
     "evalue": "",
     "output_type": "error",
     "traceback": [
      "\u001b[1;31m---------------------------------------------------------------------------\u001b[0m",
      "\u001b[1;31mKeyboardInterrupt\u001b[0m                         Traceback (most recent call last)",
      "\u001b[1;32m<ipython-input-132-251d7a7afd97>\u001b[0m in \u001b[0;36m<module>\u001b[1;34m\u001b[0m\n\u001b[1;32m----> 1\u001b[1;33m \u001b[0malign_chopin\u001b[0m\u001b[1;33m(\u001b[0m\u001b[0mmuiñeira_path\u001b[0m\u001b[1;33m,\u001b[0m\u001b[0malignment_path\u001b[0m\u001b[1;33m)\u001b[0m\u001b[1;33m\u001b[0m\u001b[1;33m\u001b[0m\u001b[0m\n\u001b[0m",
      "\u001b[1;32m<ipython-input-131-670d2544c79f>\u001b[0m in \u001b[0;36malign_chopin\u001b[1;34m(muiñeira_path, alignment_path)\u001b[0m\n\u001b[0;32m     12\u001b[0m         \u001b[1;32mfor\u001b[0m \u001b[0midx\u001b[0m\u001b[1;33m,\u001b[0m\u001b[0mperf_wav\u001b[0m \u001b[1;32min\u001b[0m \u001b[0menumerate\u001b[0m\u001b[1;33m(\u001b[0m\u001b[0mperf_wavs\u001b[0m\u001b[1;33m)\u001b[0m\u001b[1;33m:\u001b[0m\u001b[1;33m\u001b[0m\u001b[1;33m\u001b[0m\u001b[0m\n\u001b[0;32m     13\u001b[0m             \u001b[1;31m#align the score and performance\u001b[0m\u001b[1;33m\u001b[0m\u001b[1;33m\u001b[0m\u001b[1;33m\u001b[0m\u001b[0m\n\u001b[1;32m---> 14\u001b[1;33m             \u001b[0malign1\u001b[0m\u001b[1;33m,\u001b[0m\u001b[0malign2\u001b[0m\u001b[1;33m,\u001b[0m\u001b[0malign3\u001b[0m \u001b[1;33m=\u001b[0m \u001b[0malign_all\u001b[0m\u001b[1;33m(\u001b[0m\u001b[0mscore_path\u001b[0m\u001b[1;33m+\u001b[0m\u001b[1;34m'/'\u001b[0m\u001b[1;33m+\u001b[0m\u001b[0mscore_midis\u001b[0m\u001b[1;33m[\u001b[0m\u001b[0midx\u001b[0m\u001b[1;33m]\u001b[0m\u001b[1;33m,\u001b[0m \u001b[0mperf_path\u001b[0m\u001b[1;33m+\u001b[0m\u001b[1;34m'/'\u001b[0m\u001b[1;33m+\u001b[0m\u001b[0mperf_wav\u001b[0m\u001b[1;33m[\u001b[0m\u001b[1;33m:\u001b[0m\u001b[1;33m-\u001b[0m\u001b[1;36m4\u001b[0m\u001b[1;33m]\u001b[0m\u001b[1;33m)\u001b[0m\u001b[1;33m\u001b[0m\u001b[1;33m\u001b[0m\u001b[0m\n\u001b[0m\u001b[0;32m     15\u001b[0m             \u001b[1;31m#save first alignment in text file, row1 is time in score, row2 is time in performance\u001b[0m\u001b[1;33m\u001b[0m\u001b[1;33m\u001b[0m\u001b[1;33m\u001b[0m\u001b[0m\n\u001b[0;32m     16\u001b[0m             \u001b[1;31m#add a header to the file\u001b[0m\u001b[1;33m\u001b[0m\u001b[1;33m\u001b[0m\u001b[1;33m\u001b[0m\u001b[0m\n",
      "\u001b[1;32m<ipython-input-120-d9ee5f1333de>\u001b[0m in \u001b[0;36malign_all\u001b[1;34m(score_midi, perf, fs, stride, n_fft)\u001b[0m\n\u001b[0;32m     77\u001b[0m \u001b[1;32mdef\u001b[0m \u001b[0malign_all\u001b[0m\u001b[1;33m(\u001b[0m\u001b[0mscore_midi\u001b[0m\u001b[1;33m,\u001b[0m \u001b[0mperf\u001b[0m\u001b[1;33m,\u001b[0m \u001b[0mfs\u001b[0m\u001b[1;33m=\u001b[0m\u001b[1;36m44100\u001b[0m\u001b[1;33m,\u001b[0m \u001b[0mstride\u001b[0m\u001b[1;33m=\u001b[0m\u001b[1;36m512\u001b[0m\u001b[1;33m,\u001b[0m \u001b[0mn_fft\u001b[0m\u001b[1;33m=\u001b[0m\u001b[1;36m4096\u001b[0m\u001b[1;33m)\u001b[0m\u001b[1;33m:\u001b[0m\u001b[1;33m\u001b[0m\u001b[1;33m\u001b[0m\u001b[0m\n\u001b[0;32m     78\u001b[0m     \u001b[0malign1\u001b[0m\u001b[1;33m=\u001b[0m\u001b[0malign_chroma\u001b[0m\u001b[1;33m(\u001b[0m\u001b[0mscore_midi\u001b[0m\u001b[1;33m,\u001b[0m \u001b[0mperf\u001b[0m\u001b[1;33m,\u001b[0m \u001b[0mfs\u001b[0m\u001b[1;33m,\u001b[0m \u001b[0mstride\u001b[0m\u001b[1;33m,\u001b[0m \u001b[0mn_fft\u001b[0m\u001b[1;33m)\u001b[0m\u001b[1;33m\u001b[0m\u001b[1;33m\u001b[0m\u001b[0m\n\u001b[1;32m---> 79\u001b[1;33m     \u001b[0malign2\u001b[0m\u001b[1;33m=\u001b[0m\u001b[0malign_spectra\u001b[0m\u001b[1;33m(\u001b[0m\u001b[0mscore_midi\u001b[0m\u001b[1;33m,\u001b[0m \u001b[0mperf\u001b[0m\u001b[1;33m,\u001b[0m \u001b[0mfs\u001b[0m\u001b[1;33m,\u001b[0m \u001b[0mstride\u001b[0m\u001b[1;33m,\u001b[0m \u001b[0mn_fft\u001b[0m\u001b[1;33m)\u001b[0m\u001b[1;33m\u001b[0m\u001b[1;33m\u001b[0m\u001b[0m\n\u001b[0m\u001b[0;32m     80\u001b[0m     \u001b[0malign3\u001b[0m\u001b[1;33m=\u001b[0m\u001b[0malign_flux\u001b[0m\u001b[1;33m(\u001b[0m\u001b[0mscore_midi\u001b[0m\u001b[1;33m,\u001b[0m \u001b[0mperf\u001b[0m\u001b[1;33m,\u001b[0m \u001b[0mfs\u001b[0m\u001b[1;33m,\u001b[0m \u001b[0mstride\u001b[0m\u001b[1;33m,\u001b[0m \u001b[0mn_fft\u001b[0m\u001b[1;33m)\u001b[0m\u001b[1;33m\u001b[0m\u001b[1;33m\u001b[0m\u001b[0m\n\u001b[0;32m     81\u001b[0m     \u001b[1;32mreturn\u001b[0m \u001b[0malign1\u001b[0m\u001b[1;33m,\u001b[0m\u001b[0malign2\u001b[0m\u001b[1;33m,\u001b[0m\u001b[0malign3\u001b[0m \u001b[1;31m#later on we'll save these alignments in a file\u001b[0m\u001b[1;33m\u001b[0m\u001b[1;33m\u001b[0m\u001b[0m\n",
      "\u001b[1;32m<ipython-input-120-d9ee5f1333de>\u001b[0m in \u001b[0;36malign_spectra\u001b[1;34m(score_midi, perf, fs, stride, n_fft)\u001b[0m\n\u001b[0;32m     69\u001b[0m     \u001b[0mperf_spec\u001b[0m \u001b[1;33m=\u001b[0m \u001b[0mnp\u001b[0m\u001b[1;33m.\u001b[0m\u001b[0mabs\u001b[0m\u001b[1;33m(\u001b[0m\u001b[0mlibrosa\u001b[0m\u001b[1;33m.\u001b[0m\u001b[0mstft\u001b[0m\u001b[1;33m(\u001b[0m\u001b[0my\u001b[0m\u001b[1;33m=\u001b[0m\u001b[0mperf\u001b[0m\u001b[1;33m,\u001b[0m \u001b[0mhop_length\u001b[0m\u001b[1;33m=\u001b[0m\u001b[0mstride\u001b[0m\u001b[1;33m,\u001b[0m \u001b[0mn_fft\u001b[0m\u001b[1;33m=\u001b[0m\u001b[0mn_fft\u001b[0m\u001b[1;33m)\u001b[0m\u001b[1;33m)\u001b[0m\u001b[1;33m**\u001b[0m\u001b[1;36m2\u001b[0m\u001b[1;33m\u001b[0m\u001b[1;33m\u001b[0m\u001b[0m\n\u001b[0;32m     70\u001b[0m     \u001b[0mperf_logspec\u001b[0m \u001b[1;33m=\u001b[0m \u001b[0mlibrosa\u001b[0m\u001b[1;33m.\u001b[0m\u001b[0mpower_to_db\u001b[0m\u001b[1;33m(\u001b[0m\u001b[0mperf_spec\u001b[0m\u001b[1;33m,\u001b[0m \u001b[0mref\u001b[0m\u001b[1;33m=\u001b[0m\u001b[0mperf_spec\u001b[0m\u001b[1;33m.\u001b[0m\u001b[0mmax\u001b[0m\u001b[1;33m(\u001b[0m\u001b[1;33m)\u001b[0m\u001b[1;33m)\u001b[0m\u001b[1;33m\u001b[0m\u001b[1;33m\u001b[0m\u001b[0m\n\u001b[1;32m---> 71\u001b[1;33m     \u001b[0mD\u001b[0m\u001b[1;33m,\u001b[0m \u001b[0mwp\u001b[0m \u001b[1;33m=\u001b[0m \u001b[0mlibrosa\u001b[0m\u001b[1;33m.\u001b[0m\u001b[0msequence\u001b[0m\u001b[1;33m.\u001b[0m\u001b[0mdtw\u001b[0m\u001b[1;33m(\u001b[0m\u001b[0mX\u001b[0m\u001b[1;33m=\u001b[0m\u001b[0mscore_logspec\u001b[0m\u001b[1;33m,\u001b[0m \u001b[0mY\u001b[0m\u001b[1;33m=\u001b[0m\u001b[0mperf_logspec\u001b[0m\u001b[1;33m)\u001b[0m\u001b[1;33m\u001b[0m\u001b[1;33m\u001b[0m\u001b[0m\n\u001b[0m\u001b[0;32m     72\u001b[0m     \u001b[1;31m# D is COST matrix\u001b[0m\u001b[1;33m\u001b[0m\u001b[1;33m\u001b[0m\u001b[1;33m\u001b[0m\u001b[0m\n\u001b[0;32m     73\u001b[0m     \u001b[0mpath\u001b[0m \u001b[1;33m=\u001b[0m \u001b[0mnp\u001b[0m\u001b[1;33m.\u001b[0m\u001b[0marray\u001b[0m\u001b[1;33m(\u001b[0m\u001b[0mlist\u001b[0m\u001b[1;33m(\u001b[0m\u001b[0mreversed\u001b[0m\u001b[1;33m(\u001b[0m\u001b[0mnp\u001b[0m\u001b[1;33m.\u001b[0m\u001b[0masarray\u001b[0m\u001b[1;33m(\u001b[0m\u001b[0mwp\u001b[0m\u001b[1;33m)\u001b[0m\u001b[1;33m)\u001b[0m\u001b[1;33m)\u001b[0m\u001b[1;33m)\u001b[0m\u001b[1;33m\u001b[0m\u001b[1;33m\u001b[0m\u001b[0m\n",
      "\u001b[1;32mD:\\Anaconda3\\lib\\site-packages\\librosa-0.8.0-py3.7.egg\\librosa\\sequence.py\u001b[0m in \u001b[0;36mdtw\u001b[1;34m(X, Y, C, metric, step_sizes_sigma, weights_add, weights_mul, subseq, backtrack, global_constraints, band_rad, return_steps)\u001b[0m\n\u001b[0;32m    225\u001b[0m \u001b[1;33m\u001b[0m\u001b[0m\n\u001b[0;32m    226\u001b[0m         \u001b[1;32mtry\u001b[0m\u001b[1;33m:\u001b[0m\u001b[1;33m\u001b[0m\u001b[1;33m\u001b[0m\u001b[0m\n\u001b[1;32m--> 227\u001b[1;33m             \u001b[0mC\u001b[0m \u001b[1;33m=\u001b[0m \u001b[0mcdist\u001b[0m\u001b[1;33m(\u001b[0m\u001b[0mX\u001b[0m\u001b[1;33m.\u001b[0m\u001b[0mT\u001b[0m\u001b[1;33m,\u001b[0m \u001b[0mY\u001b[0m\u001b[1;33m.\u001b[0m\u001b[0mT\u001b[0m\u001b[1;33m,\u001b[0m \u001b[0mmetric\u001b[0m\u001b[1;33m=\u001b[0m\u001b[0mmetric\u001b[0m\u001b[1;33m)\u001b[0m\u001b[1;33m\u001b[0m\u001b[1;33m\u001b[0m\u001b[0m\n\u001b[0m\u001b[0;32m    228\u001b[0m         \u001b[1;32mexcept\u001b[0m \u001b[0mValueError\u001b[0m \u001b[1;32mas\u001b[0m \u001b[0mexc\u001b[0m\u001b[1;33m:\u001b[0m\u001b[1;33m\u001b[0m\u001b[1;33m\u001b[0m\u001b[0m\n\u001b[0;32m    229\u001b[0m             raise ParameterError(\n",
      "\u001b[1;32mD:\\Anaconda3\\lib\\site-packages\\scipy\\spatial\\distance.py\u001b[0m in \u001b[0;36mcdist\u001b[1;34m(XA, XB, metric, *args, **kwargs)\u001b[0m\n\u001b[0;32m   2778\u001b[0m             cdist_fn = getattr(_distance_wrap,\n\u001b[0;32m   2779\u001b[0m                                \"cdist_%s_%s_wrap\" % (metric_name, typ))\n\u001b[1;32m-> 2780\u001b[1;33m             \u001b[0mcdist_fn\u001b[0m\u001b[1;33m(\u001b[0m\u001b[0mXA\u001b[0m\u001b[1;33m,\u001b[0m \u001b[0mXB\u001b[0m\u001b[1;33m,\u001b[0m \u001b[0mdm\u001b[0m\u001b[1;33m,\u001b[0m \u001b[1;33m**\u001b[0m\u001b[0mkwargs\u001b[0m\u001b[1;33m)\u001b[0m\u001b[1;33m\u001b[0m\u001b[1;33m\u001b[0m\u001b[0m\n\u001b[0m\u001b[0;32m   2781\u001b[0m             \u001b[1;32mreturn\u001b[0m \u001b[0mdm\u001b[0m\u001b[1;33m\u001b[0m\u001b[1;33m\u001b[0m\u001b[0m\n\u001b[0;32m   2782\u001b[0m \u001b[1;33m\u001b[0m\u001b[0m\n",
      "\u001b[1;31mKeyboardInterrupt\u001b[0m: "
     ]
    }
   ],
   "source": [
    "align_chopin(muiñeira_path,alignment_path)"
   ]
  },
  {
   "cell_type": "code",
   "execution_count": 112,
   "metadata": {},
   "outputs": [
    {
     "data": {
      "text/html": [
       "<div>\n",
       "<style scoped>\n",
       "    .dataframe tbody tr th:only-of-type {\n",
       "        vertical-align: middle;\n",
       "    }\n",
       "\n",
       "    .dataframe tbody tr th {\n",
       "        vertical-align: top;\n",
       "    }\n",
       "\n",
       "    .dataframe thead th {\n",
       "        text-align: right;\n",
       "    }\n",
       "</style>\n",
       "<table border=\"1\" class=\"dataframe\">\n",
       "  <thead>\n",
       "    <tr style=\"text-align: right;\">\n",
       "      <th></th>\n",
       "      <th>score_time</th>\n",
       "      <th>perf_time</th>\n",
       "    </tr>\n",
       "  </thead>\n",
       "  <tbody>\n",
       "    <tr>\n",
       "      <th>0</th>\n",
       "      <td>0.00000</td>\n",
       "      <td>0.000000</td>\n",
       "    </tr>\n",
       "    <tr>\n",
       "      <th>1</th>\n",
       "      <td>0.01161</td>\n",
       "      <td>0.011610</td>\n",
       "    </tr>\n",
       "    <tr>\n",
       "      <th>2</th>\n",
       "      <td>0.02322</td>\n",
       "      <td>0.023220</td>\n",
       "    </tr>\n",
       "    <tr>\n",
       "      <th>3</th>\n",
       "      <td>0.03483</td>\n",
       "      <td>0.034830</td>\n",
       "    </tr>\n",
       "    <tr>\n",
       "      <th>4</th>\n",
       "      <td>0.04644</td>\n",
       "      <td>0.046440</td>\n",
       "    </tr>\n",
       "    <tr>\n",
       "      <th>...</th>\n",
       "      <td>...</td>\n",
       "      <td>...</td>\n",
       "    </tr>\n",
       "    <tr>\n",
       "      <th>11038</th>\n",
       "      <td>128.15093</td>\n",
       "      <td>131.970612</td>\n",
       "    </tr>\n",
       "    <tr>\n",
       "      <th>11039</th>\n",
       "      <td>128.16254</td>\n",
       "      <td>132.736871</td>\n",
       "    </tr>\n",
       "    <tr>\n",
       "      <th>11040</th>\n",
       "      <td>128.17415</td>\n",
       "      <td>132.748481</td>\n",
       "    </tr>\n",
       "    <tr>\n",
       "      <th>11041</th>\n",
       "      <td>128.18576</td>\n",
       "      <td>132.760091</td>\n",
       "    </tr>\n",
       "    <tr>\n",
       "      <th>11042</th>\n",
       "      <td>128.19737</td>\n",
       "      <td>132.771701</td>\n",
       "    </tr>\n",
       "  </tbody>\n",
       "</table>\n",
       "<p>11043 rows × 2 columns</p>\n",
       "</div>"
      ],
      "text/plain": [
       "       score_time   perf_time\n",
       "0         0.00000    0.000000\n",
       "1         0.01161    0.011610\n",
       "2         0.02322    0.023220\n",
       "3         0.03483    0.034830\n",
       "4         0.04644    0.046440\n",
       "...           ...         ...\n",
       "11038   128.15093  131.970612\n",
       "11039   128.16254  132.736871\n",
       "11040   128.17415  132.748481\n",
       "11041   128.18576  132.760091\n",
       "11042   128.19737  132.771701\n",
       "\n",
       "[11043 rows x 2 columns]"
      ]
     },
     "metadata": {},
     "output_type": "display_data"
    }
   ],
   "source": [
    "import pandas as pd\n",
    "import numpy as np\n",
    "align_chroma_fonsagrada = alignment_path+'/align_flux.txt'\n",
    "df = pd.read_csv(align_chroma_fonsagrada, sep = \",\", names=['score_time', 'perf_time'], header=0)\n",
    "display(df)"
   ]
  },
  {
   "cell_type": "code",
   "execution_count": 113,
   "metadata": {},
   "outputs": [
    {
     "data": {
      "text/plain": [
       "array([[1.        , 0.99994564],\n",
       "       [0.99994564, 1.        ]])"
      ]
     },
     "execution_count": 113,
     "metadata": {},
     "output_type": "execute_result"
    }
   ],
   "source": [
    "my_rho = np.corrcoef(df['score_time'],df['perf_time'])\n",
    "my_rho"
   ]
  },
  {
   "cell_type": "code",
   "execution_count": 114,
   "metadata": {},
   "outputs": [
    {
     "data": {
      "text/plain": [
       "0.9999456374229408"
      ]
     },
     "execution_count": 114,
     "metadata": {},
     "output_type": "execute_result"
    }
   ],
   "source": [
    "# 计算皮尔森系数\n",
    "coef_corr = df[\"score_time\"].corr(df[\"perf_time\"], method=\"pearson\")\n",
    "coef_corr"
   ]
  },
  {
   "cell_type": "code",
   "execution_count": 134,
   "metadata": {},
   "outputs": [
    {
     "data": {
      "text/plain": [
       "['alignments0',\n",
       " 'alignments1',\n",
       " 'alignments10',\n",
       " 'alignments11',\n",
       " 'alignments2',\n",
       " 'alignments22',\n",
       " 'alignments3',\n",
       " 'alignments4',\n",
       " 'alignments5',\n",
       " 'alignments6',\n",
       " 'alignments7',\n",
       " 'alignments8',\n",
       " 'alignments9']"
      ]
     },
     "execution_count": 134,
     "metadata": {},
     "output_type": "execute_result"
    }
   ],
   "source": [
    "list_alignments = [f for f in os.listdir(alignment_path)]\n",
    "list_alignments"
   ]
  },
  {
   "cell_type": "code",
   "execution_count": 138,
   "metadata": {},
   "outputs": [
    {
     "data": {
      "text/plain": [
       "['align_chroma.txt', 'align_flux.txt', 'align_spectra.txt']"
      ]
     },
     "execution_count": 138,
     "metadata": {},
     "output_type": "execute_result"
    }
   ],
   "source": [
    "files = os.listdir(alignment_path+list_alignments[0])\n",
    "files"
   ]
  },
  {
   "cell_type": "code",
   "execution_count": 150,
   "metadata": {},
   "outputs": [],
   "source": [
    "coef_corr_chroma = pd.DataFrame(columns=['txt','coef_corr_chroma'])\n",
    "coef_corr_spectra = pd.DataFrame(columns=['txt','coef_corr_spectra'])\n",
    "coef_corr_flux = pd.DataFrame(columns=['txt','coef_corr_flux'])\n",
    "for alignments in list_alignments:\n",
    "    #print(alignments)\n",
    "    files = os.listdir(alignment_path+alignments)\n",
    "    #print(txt)\n",
    "    txts=[]\n",
    "    txts.append(os.path.join(alignment_path+alignments,files[0]))\n",
    "    txts.append(os.path.join(alignment_path+alignments,files[1]))\n",
    "    txts.append(os.path.join(alignment_path+alignments,files[2]))\n",
    "    for txt in txts:\n",
    "        if 'chroma' in txt:\n",
    "            df = pd.read_csv(txt, sep = \",\", names=['score_time', 'perf_time'], header=0)\n",
    "            coef_corr = df[\"score_time\"].corr(df[\"perf_time\"], method=\"pearson\")\n",
    "            coef_corr_chroma = coef_corr_chroma.append({'txt': alignments, 'coef_corr_chroma': coef_corr}, ignore_index=True)\n",
    "\n",
    "        if 'spectra' in txt:\n",
    "            df = pd.read_csv(txt, sep = \",\", names=['score_time', 'perf_time'], header=0)\n",
    "            coef_corr = df[\"score_time\"].corr(df[\"perf_time\"], method=\"pearson\")\n",
    "            coef_corr_spectra = coef_corr_spectra.append({'txt': alignments, 'coef_corr_spectra': coef_corr}, ignore_index=True)\n",
    "        \n",
    "        if 'flux' in txt:\n",
    "            df = pd.read_csv(txt, sep = \",\", names=['score_time', 'perf_time'], header=0)\n",
    "            coef_corr = df[\"score_time\"].corr(df[\"perf_time\"], method=\"pearson\")\n",
    "            coef_corr_flux = coef_corr_flux.append({'txt': alignments, 'coef_corr_flux': coef_corr}, ignore_index=True)"
   ]
  },
  {
   "cell_type": "code",
   "execution_count": 151,
   "metadata": {},
   "outputs": [
    {
     "data": {
      "text/html": [
       "<div>\n",
       "<style scoped>\n",
       "    .dataframe tbody tr th:only-of-type {\n",
       "        vertical-align: middle;\n",
       "    }\n",
       "\n",
       "    .dataframe tbody tr th {\n",
       "        vertical-align: top;\n",
       "    }\n",
       "\n",
       "    .dataframe thead th {\n",
       "        text-align: right;\n",
       "    }\n",
       "</style>\n",
       "<table border=\"1\" class=\"dataframe\">\n",
       "  <thead>\n",
       "    <tr style=\"text-align: right;\">\n",
       "      <th></th>\n",
       "      <th>txt</th>\n",
       "      <th>coef_corr_chroma</th>\n",
       "    </tr>\n",
       "  </thead>\n",
       "  <tbody>\n",
       "    <tr>\n",
       "      <th>0</th>\n",
       "      <td>alignments0</td>\n",
       "      <td>0.999427</td>\n",
       "    </tr>\n",
       "    <tr>\n",
       "      <th>1</th>\n",
       "      <td>alignments1</td>\n",
       "      <td>0.999798</td>\n",
       "    </tr>\n",
       "    <tr>\n",
       "      <th>2</th>\n",
       "      <td>alignments10</td>\n",
       "      <td>0.999801</td>\n",
       "    </tr>\n",
       "    <tr>\n",
       "      <th>3</th>\n",
       "      <td>alignments11</td>\n",
       "      <td>0.999908</td>\n",
       "    </tr>\n",
       "    <tr>\n",
       "      <th>4</th>\n",
       "      <td>alignments2</td>\n",
       "      <td>0.999944</td>\n",
       "    </tr>\n",
       "    <tr>\n",
       "      <th>5</th>\n",
       "      <td>alignments22</td>\n",
       "      <td>0.999427</td>\n",
       "    </tr>\n",
       "    <tr>\n",
       "      <th>6</th>\n",
       "      <td>alignments3</td>\n",
       "      <td>0.999874</td>\n",
       "    </tr>\n",
       "    <tr>\n",
       "      <th>7</th>\n",
       "      <td>alignments4</td>\n",
       "      <td>0.999922</td>\n",
       "    </tr>\n",
       "    <tr>\n",
       "      <th>8</th>\n",
       "      <td>alignments5</td>\n",
       "      <td>0.999742</td>\n",
       "    </tr>\n",
       "    <tr>\n",
       "      <th>9</th>\n",
       "      <td>alignments6</td>\n",
       "      <td>0.999938</td>\n",
       "    </tr>\n",
       "    <tr>\n",
       "      <th>10</th>\n",
       "      <td>alignments7</td>\n",
       "      <td>0.999761</td>\n",
       "    </tr>\n",
       "    <tr>\n",
       "      <th>11</th>\n",
       "      <td>alignments8</td>\n",
       "      <td>0.999908</td>\n",
       "    </tr>\n",
       "    <tr>\n",
       "      <th>12</th>\n",
       "      <td>alignments9</td>\n",
       "      <td>0.999831</td>\n",
       "    </tr>\n",
       "  </tbody>\n",
       "</table>\n",
       "</div>"
      ],
      "text/plain": [
       "             txt  coef_corr_chroma\n",
       "0    alignments0          0.999427\n",
       "1    alignments1          0.999798\n",
       "2   alignments10          0.999801\n",
       "3   alignments11          0.999908\n",
       "4    alignments2          0.999944\n",
       "5   alignments22          0.999427\n",
       "6    alignments3          0.999874\n",
       "7    alignments4          0.999922\n",
       "8    alignments5          0.999742\n",
       "9    alignments6          0.999938\n",
       "10   alignments7          0.999761\n",
       "11   alignments8          0.999908\n",
       "12   alignments9          0.999831"
      ]
     },
     "execution_count": 151,
     "metadata": {},
     "output_type": "execute_result"
    }
   ],
   "source": [
    "coef_corr_chroma"
   ]
  },
  {
   "cell_type": "code",
   "execution_count": 153,
   "metadata": {},
   "outputs": [
    {
     "data": {
      "text/html": [
       "<div>\n",
       "<style scoped>\n",
       "    .dataframe tbody tr th:only-of-type {\n",
       "        vertical-align: middle;\n",
       "    }\n",
       "\n",
       "    .dataframe tbody tr th {\n",
       "        vertical-align: top;\n",
       "    }\n",
       "\n",
       "    .dataframe thead th {\n",
       "        text-align: right;\n",
       "    }\n",
       "</style>\n",
       "<table border=\"1\" class=\"dataframe\">\n",
       "  <thead>\n",
       "    <tr style=\"text-align: right;\">\n",
       "      <th></th>\n",
       "      <th>txt</th>\n",
       "      <th>coef_corr_chroma</th>\n",
       "      <th>coef_corr_spectra</th>\n",
       "    </tr>\n",
       "  </thead>\n",
       "  <tbody>\n",
       "    <tr>\n",
       "      <th>0</th>\n",
       "      <td>alignments0</td>\n",
       "      <td>0.999427</td>\n",
       "      <td>0.998544</td>\n",
       "    </tr>\n",
       "    <tr>\n",
       "      <th>1</th>\n",
       "      <td>alignments1</td>\n",
       "      <td>0.999798</td>\n",
       "      <td>0.999103</td>\n",
       "    </tr>\n",
       "    <tr>\n",
       "      <th>2</th>\n",
       "      <td>alignments10</td>\n",
       "      <td>0.999801</td>\n",
       "      <td>0.999845</td>\n",
       "    </tr>\n",
       "    <tr>\n",
       "      <th>3</th>\n",
       "      <td>alignments11</td>\n",
       "      <td>0.999908</td>\n",
       "      <td>0.999270</td>\n",
       "    </tr>\n",
       "    <tr>\n",
       "      <th>4</th>\n",
       "      <td>alignments2</td>\n",
       "      <td>0.999944</td>\n",
       "      <td>0.999976</td>\n",
       "    </tr>\n",
       "    <tr>\n",
       "      <th>5</th>\n",
       "      <td>alignments22</td>\n",
       "      <td>0.999427</td>\n",
       "      <td>0.998544</td>\n",
       "    </tr>\n",
       "    <tr>\n",
       "      <th>6</th>\n",
       "      <td>alignments3</td>\n",
       "      <td>0.999874</td>\n",
       "      <td>0.999174</td>\n",
       "    </tr>\n",
       "    <tr>\n",
       "      <th>7</th>\n",
       "      <td>alignments4</td>\n",
       "      <td>0.999922</td>\n",
       "      <td>0.999956</td>\n",
       "    </tr>\n",
       "    <tr>\n",
       "      <th>8</th>\n",
       "      <td>alignments5</td>\n",
       "      <td>0.999742</td>\n",
       "      <td>0.997178</td>\n",
       "    </tr>\n",
       "    <tr>\n",
       "      <th>9</th>\n",
       "      <td>alignments6</td>\n",
       "      <td>0.999938</td>\n",
       "      <td>0.999709</td>\n",
       "    </tr>\n",
       "    <tr>\n",
       "      <th>10</th>\n",
       "      <td>alignments7</td>\n",
       "      <td>0.999761</td>\n",
       "      <td>0.999187</td>\n",
       "    </tr>\n",
       "    <tr>\n",
       "      <th>11</th>\n",
       "      <td>alignments8</td>\n",
       "      <td>0.999908</td>\n",
       "      <td>0.999865</td>\n",
       "    </tr>\n",
       "    <tr>\n",
       "      <th>12</th>\n",
       "      <td>alignments9</td>\n",
       "      <td>0.999831</td>\n",
       "      <td>0.999091</td>\n",
       "    </tr>\n",
       "  </tbody>\n",
       "</table>\n",
       "</div>"
      ],
      "text/plain": [
       "             txt  coef_corr_chroma  coef_corr_spectra\n",
       "0    alignments0          0.999427           0.998544\n",
       "1    alignments1          0.999798           0.999103\n",
       "2   alignments10          0.999801           0.999845\n",
       "3   alignments11          0.999908           0.999270\n",
       "4    alignments2          0.999944           0.999976\n",
       "5   alignments22          0.999427           0.998544\n",
       "6    alignments3          0.999874           0.999174\n",
       "7    alignments4          0.999922           0.999956\n",
       "8    alignments5          0.999742           0.997178\n",
       "9    alignments6          0.999938           0.999709\n",
       "10   alignments7          0.999761           0.999187\n",
       "11   alignments8          0.999908           0.999865\n",
       "12   alignments9          0.999831           0.999091"
      ]
     },
     "execution_count": 153,
     "metadata": {},
     "output_type": "execute_result"
    }
   ],
   "source": [
    "pearson_merged = coef_corr_chroma.merge(coef_corr_spectra, on='txt')\n",
    "pearson_merged"
   ]
  },
  {
   "cell_type": "code",
   "execution_count": 154,
   "metadata": {},
   "outputs": [
    {
     "data": {
      "text/html": [
       "<div>\n",
       "<style scoped>\n",
       "    .dataframe tbody tr th:only-of-type {\n",
       "        vertical-align: middle;\n",
       "    }\n",
       "\n",
       "    .dataframe tbody tr th {\n",
       "        vertical-align: top;\n",
       "    }\n",
       "\n",
       "    .dataframe thead th {\n",
       "        text-align: right;\n",
       "    }\n",
       "</style>\n",
       "<table border=\"1\" class=\"dataframe\">\n",
       "  <thead>\n",
       "    <tr style=\"text-align: right;\">\n",
       "      <th></th>\n",
       "      <th>txt</th>\n",
       "      <th>coef_corr_chroma</th>\n",
       "      <th>coef_corr_spectra</th>\n",
       "      <th>coef_corr_flux</th>\n",
       "    </tr>\n",
       "  </thead>\n",
       "  <tbody>\n",
       "    <tr>\n",
       "      <th>0</th>\n",
       "      <td>alignments0</td>\n",
       "      <td>0.999427</td>\n",
       "      <td>0.998544</td>\n",
       "      <td>0.999946</td>\n",
       "    </tr>\n",
       "    <tr>\n",
       "      <th>1</th>\n",
       "      <td>alignments1</td>\n",
       "      <td>0.999798</td>\n",
       "      <td>0.999103</td>\n",
       "      <td>0.999920</td>\n",
       "    </tr>\n",
       "    <tr>\n",
       "      <th>2</th>\n",
       "      <td>alignments10</td>\n",
       "      <td>0.999801</td>\n",
       "      <td>0.999845</td>\n",
       "      <td>0.998238</td>\n",
       "    </tr>\n",
       "    <tr>\n",
       "      <th>3</th>\n",
       "      <td>alignments11</td>\n",
       "      <td>0.999908</td>\n",
       "      <td>0.999270</td>\n",
       "      <td>0.999962</td>\n",
       "    </tr>\n",
       "    <tr>\n",
       "      <th>4</th>\n",
       "      <td>alignments2</td>\n",
       "      <td>0.999944</td>\n",
       "      <td>0.999976</td>\n",
       "      <td>0.999968</td>\n",
       "    </tr>\n",
       "    <tr>\n",
       "      <th>5</th>\n",
       "      <td>alignments22</td>\n",
       "      <td>0.999427</td>\n",
       "      <td>0.998544</td>\n",
       "      <td>0.999946</td>\n",
       "    </tr>\n",
       "    <tr>\n",
       "      <th>6</th>\n",
       "      <td>alignments3</td>\n",
       "      <td>0.999874</td>\n",
       "      <td>0.999174</td>\n",
       "      <td>0.999764</td>\n",
       "    </tr>\n",
       "    <tr>\n",
       "      <th>7</th>\n",
       "      <td>alignments4</td>\n",
       "      <td>0.999922</td>\n",
       "      <td>0.999956</td>\n",
       "      <td>0.999907</td>\n",
       "    </tr>\n",
       "    <tr>\n",
       "      <th>8</th>\n",
       "      <td>alignments5</td>\n",
       "      <td>0.999742</td>\n",
       "      <td>0.997178</td>\n",
       "      <td>0.997695</td>\n",
       "    </tr>\n",
       "    <tr>\n",
       "      <th>9</th>\n",
       "      <td>alignments6</td>\n",
       "      <td>0.999938</td>\n",
       "      <td>0.999709</td>\n",
       "      <td>0.999953</td>\n",
       "    </tr>\n",
       "    <tr>\n",
       "      <th>10</th>\n",
       "      <td>alignments7</td>\n",
       "      <td>0.999761</td>\n",
       "      <td>0.999187</td>\n",
       "      <td>0.999838</td>\n",
       "    </tr>\n",
       "    <tr>\n",
       "      <th>11</th>\n",
       "      <td>alignments8</td>\n",
       "      <td>0.999908</td>\n",
       "      <td>0.999865</td>\n",
       "      <td>0.999954</td>\n",
       "    </tr>\n",
       "    <tr>\n",
       "      <th>12</th>\n",
       "      <td>alignments9</td>\n",
       "      <td>0.999831</td>\n",
       "      <td>0.999091</td>\n",
       "      <td>0.999822</td>\n",
       "    </tr>\n",
       "  </tbody>\n",
       "</table>\n",
       "</div>"
      ],
      "text/plain": [
       "             txt  coef_corr_chroma  coef_corr_spectra  coef_corr_flux\n",
       "0    alignments0          0.999427           0.998544        0.999946\n",
       "1    alignments1          0.999798           0.999103        0.999920\n",
       "2   alignments10          0.999801           0.999845        0.998238\n",
       "3   alignments11          0.999908           0.999270        0.999962\n",
       "4    alignments2          0.999944           0.999976        0.999968\n",
       "5   alignments22          0.999427           0.998544        0.999946\n",
       "6    alignments3          0.999874           0.999174        0.999764\n",
       "7    alignments4          0.999922           0.999956        0.999907\n",
       "8    alignments5          0.999742           0.997178        0.997695\n",
       "9    alignments6          0.999938           0.999709        0.999953\n",
       "10   alignments7          0.999761           0.999187        0.999838\n",
       "11   alignments8          0.999908           0.999865        0.999954\n",
       "12   alignments9          0.999831           0.999091        0.999822"
      ]
     },
     "execution_count": 154,
     "metadata": {},
     "output_type": "execute_result"
    }
   ],
   "source": [
    "pearson_merged = pearson_merged.merge(coef_corr_flux, on='txt')\n",
    "pearson_merged"
   ]
  },
  {
   "cell_type": "code",
   "execution_count": 102,
   "metadata": {},
   "outputs": [],
   "source": [
    "#plot the alignments \n",
    "def plot_alignments(align1, align2, align3):\n",
    "    #plot the alignment x - score, y - performance\n",
    "    plt.figure(figsize=(15,5))\n",
    "    plt.plot(align1[:,1], align1[:,0], label='Chroma')\n",
    "    plt.plot(align2[:,1], align2[:,0], label='Spectra')\n",
    "    plt.plot(align3[:,1], align3[:,0], label='Flux')\n",
    "    plt.xlabel('Time in performance')\n",
    "    plt.ylabel('Time in score')\n",
    "    plt.legend(['Chroma', 'Spectra','Flux'])\n",
    "    plt.show()\n",
    "    plt.savefig('alignment.png')\n",
    "    \n",
    "def read_alignment(file_path):\n",
    "    return np.loadtxt(file_path, delimiter=',', skiprows=1)"
   ]
  },
  {
   "cell_type": "code",
   "execution_count": 103,
   "metadata": {},
   "outputs": [
    {
     "data": {
      "image/png": "[encoded data removed]",
      "text/plain": [
       "<Figure size 1080x360 with 1 Axes>"
      ]
     },
     "metadata": {
      "needs_background": "light"
     },
     "output_type": "display_data"
    },
    {
     "data": {
      "text/plain": [
       "<Figure size 432x288 with 0 Axes>"
      ]
     },
     "metadata": {},
     "output_type": "display_data"
    }
   ],
   "source": [
    "#get alignment results\n",
    "align_chroma=read_alignment(alignment_path+'/align_chroma.txt')\n",
    "align_spectra=read_alignment(alignment_path+'/align_spectra.txt')\n",
    "align_flux=read_alignment(alignment_path+'/align_flux.txt')\n",
    "#plot both alignments\n",
    "plot_alignments(align_chroma,align_spectra,align_flux)"
   ]
  },
  {
   "cell_type": "code",
   "execution_count": 174,
   "metadata": {},
   "outputs": [
    {
     "data": {
      "text/plain": [
       "(0.997, 1)"
      ]
     },
     "execution_count": 174,
     "metadata": {},
     "output_type": "execute_result"
    },
    {
     "data": {
      "image/png": "[encoded data removed]",
      "text/plain": [
       "<Figure size 1200x400 with 1 Axes>"
      ]
     },
     "metadata": {
      "needs_background": "light"
     },
     "output_type": "display_data"
    }
   ],
   "source": [
    "plt.figure(figsize=(15, 5), dpi=80)\n",
    "x_data = pearson_merged.index\n",
    "x_width = range(0,len(x_data))\n",
    "x2_width = [i+0.2 for i in x_width]\n",
    "x3_width = [i+0.4 for i in x_width]\n",
    "y_data = pearson_merged['coef_corr_chroma']\n",
    "y2_data = pearson_merged['coef_corr_spectra']\n",
    "y3_data = pearson_merged['coef_corr_flux']\n",
    "plt.bar(x_width,y_data,lw=1,fc='#FF69B4',width=0.2,label=\"Chroma\")\n",
    "plt.bar(x2_width,y2_data,lw=1,fc=(0.1,0.85,0.8),width=0.2,label=\"Spectral\")\n",
    "plt.bar(x3_width,y3_data,lw=1,fc='#FFD700',width=0.2,label=\"Onset\")\n",
    "plt.legend()\n",
    " \n",
    "plt.xticks(x_data)\n",
    "plt.ylim((0.997, 1))"
   ]
  },
  {
   "cell_type": "code",
   "execution_count": null,
   "metadata": {},
   "outputs": [],
   "source": []
  }
 ],
 "metadata": {
  "kernelspec": {
   "display_name": "Python 3",
   "language": "python",
   "name": "python3"
  }
 },
 "nbformat": 4,
 "nbformat_minor": 4
}
